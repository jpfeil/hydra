{
 "cells": [
  {
   "cell_type": "code",
   "execution_count": 175,
   "metadata": {
    "collapsed": false
   },
   "outputs": [
    {
     "name": "stdout",
     "output_type": "stream",
     "text": [
      "Populating the interactive namespace from numpy and matplotlib\n"
     ]
    }
   ],
   "source": [
    "%pylab inline \n",
    "import numpy as np\n",
    "from matplotlib import pylab\n",
    "np.set_printoptions(precision=3, suppress=1, linewidth=100)"
   ]
  },
  {
   "cell_type": "code",
   "execution_count": 176,
   "metadata": {
    "collapsed": false
   },
   "outputs": [],
   "source": [
    "from ReconfigWordProposal import makeReconfigWordMoveCandidate_LP, evaluateReconfigWordMoveCandidate_LP"
   ]
  },
  {
   "cell_type": "code",
   "execution_count": 177,
   "metadata": {
    "collapsed": true
   },
   "outputs": [],
   "source": [
    "import bnpy"
   ]
  },
  {
   "cell_type": "code",
   "execution_count": 178,
   "metadata": {
    "collapsed": true
   },
   "outputs": [],
   "source": [
    "import BarsK10V900\n",
    "Data = BarsK10V900.get_data(nDocTotal=300, nWordsPerDoc=200)"
   ]
  },
  {
   "cell_type": "code",
   "execution_count": 179,
   "metadata": {
    "collapsed": true
   },
   "outputs": [],
   "source": [
    "LPkwargs = dict(\n",
    "    nCoordAscentItersLP=50,\n",
    "    convThrLP=0.001,\n",
    "    restartLP=1,\n",
    "    )"
   ]
  },
  {
   "cell_type": "code",
   "execution_count": 180,
   "metadata": {
    "collapsed": false
   },
   "outputs": [
    {
     "name": "stdout",
     "output_type": "stream",
     "text": [
      "Toy Bars Data with 10 true topics. Each doc uses 1-3 bars.\n",
      "Entire Dataset Summary:\n",
      "  total size: 300 units\n",
      "  batch size: 150 units\n",
      "  num. batches: 2\n",
      "Data for Initialization:\n",
      "  size: 300 units (documents)\n",
      "  vocab size: 900\n",
      "  min    5%   50%   95%   max \n",
      "  120   125   143   163   182  nUniqueTokensPerDoc\n",
      "  200   200   200   200   200  nTotalTokensPerDoc\n",
      "Hist of word_count across tokens \n",
      "      1      2      3    <10   <100  >=100\n",
      "   0.71   0.22   0.06   0.02      0      0\n",
      "Hist of unique docs per word type\n",
      "     <1    <10   <100  >=100\n",
      "      0      0   >.99      0\n",
      "Allocation Model:  HDP model with K=10 active comps. gamma=10.00. alpha=0.50\n",
      "Obs. Data  Model:  Multinomial over finite vocabulary.\n",
      "Obs. Data  Prior:  Dirichlet over finite vocabulary \n",
      "  lam = [ 0.1  0.1] ...\n",
      "Learn Alg: moVB\n",
      "Trial  1/1 | alg. seed: 4226944 | data order seed: 8541952\n",
      "savepath: /results/BarsK10V900/defaultjob/1\n",
      "    0.500/10 after      0 sec. | K   10 | ev -6.168762661e+00 |  \n",
      "        1/10 after      0 sec. | K   10 | ev -6.061991018e+00 |  \n",
      "    1.500/10 after      1 sec. | K   10 | ev -6.059611400e+00 | Ndiff   21.721 \n",
      "   10.000/10 after      3 sec. | K   10 | ev -6.045742107e+00 | Ndiff    0.322 \n",
      "... done. not converged. max laps thru data exceeded.\n"
     ]
    }
   ],
   "source": [
    "trueModel, Info = bnpy.run(Data, 'HDPTopicModel', 'Mult', 'moVB',\n",
    "                        lam=0.1, alpha=0.5, gamma=10, \n",
    "                        nLap=10, nBatch=2, printEvery=25,\n",
    "                        initname='truelabels',\n",
    "                       **LPkwargs)"
   ]
  },
  {
   "cell_type": "code",
   "execution_count": 181,
   "metadata": {
    "collapsed": false
   },
   "outputs": [
    {
     "name": "stdout",
     "output_type": "stream",
     "text": [
      "[[ 38.71   32.384  38.274  32.842  36.009  36.894  35.47   31.429  35.389  35.817]\n",
      " [  0.      0.      0.      0.      0.      0.      0.      0.      0.      0.   ]\n",
      " [  0.      0.      0.      0.      0.      0.      0.      0.      1.287   0.   ]\n",
      " [  0.      0.      0.      0.      0.      0.      0.      0.      0.      0.   ]\n",
      " [  0.      0.      0.      0.      0.      0.      0.      0.      0.      1.234]\n",
      " [ 36.858  39.327  44.071  33.843  51.927  40.514   0.      0.      0.      0.   ]\n",
      " [  0.      0.      0.      1.096   0.      0.     38.53   34.461  29.325  30.307]\n",
      " [  0.      2.289   0.      0.      0.      3.591   0.      2.109   0.      0.   ]\n",
      " [  0.      0.      1.655   0.      1.064   0.      0.      0.      0.      3.643]\n",
      " [  4.431   0.      0.      1.219   0.      0.      0.      0.      0.      0.   ]]\n"
     ]
    }
   ],
   "source": [
    "trueLP = trueModel.calc_local_params(Data, **LPkwargs)\n",
    "trueLP = makeLPWithMinNonzeroValFromLP(Data, trueModel, trueLP)\n",
    "trueSS = trueModel.get_global_suff_stats(Data, trueLP, doPrecompEntropy=1)\n",
    "\n",
    "print trueSS.WordCounts[:, :10]"
   ]
  },
  {
   "cell_type": "markdown",
   "metadata": {},
   "source": [
    "# Learn model with \"dropped words\" initialization"
   ]
  },
  {
   "cell_type": "code",
   "execution_count": 182,
   "metadata": {
    "collapsed": false
   },
   "outputs": [
    {
     "name": "stdout",
     "output_type": "stream",
     "text": [
      "initDropWordIDs:     [0 1 2 3 4 5]\n",
      "Toy Bars Data with 10 true topics. Each doc uses 1-3 bars.\n",
      "Entire Dataset Summary:\n",
      "  total size: 300 units\n",
      "  batch size: 150 units\n",
      "  num. batches: 2\n",
      "Data for Initialization:\n",
      "  size: 300 units (documents)\n",
      "  vocab size: 900\n",
      "  min    5%   50%   95%   max \n",
      "  120   125   143   163   182  nUniqueTokensPerDoc\n",
      "  200   200   200   200   200  nTotalTokensPerDoc\n",
      "Hist of word_count across tokens \n",
      "      1      2      3    <10   <100  >=100\n",
      "   0.71   0.22   0.06   0.02      0      0\n",
      "Hist of unique docs per word type\n",
      "     <1    <10   <100  >=100\n",
      "      0      0   >.99      0\n",
      "Allocation Model:  HDP model with K=10 active comps. gamma=10.00. alpha=0.50\n",
      "Obs. Data  Model:  Multinomial over finite vocabulary.\n",
      "Obs. Data  Prior:  Dirichlet over finite vocabulary \n",
      "  lam = [ 0.1  0.1] ...\n",
      "Learn Alg: moVB\n",
      "Trial  1/1 | alg. seed: 4226944 | data order seed: 8541952\n",
      "savepath: /results/BarsK10V900/defaultjob/1\n",
      "    0.500/10 after      0 sec. | K   10 | ev -6.174852207e+00 |  \n",
      "        1/10 after      0 sec. | K   10 | ev -6.068467446e+00 |  \n",
      "    1.500/10 after      1 sec. | K   10 | ev -6.066057521e+00 | Ndiff   26.242 \n",
      "   10.000/10 after      3 sec. | K   10 | ev -6.051715113e+00 | Ndiff    0.431 \n",
      "... done. not converged. max laps thru data exceeded.\n"
     ]
    }
   ],
   "source": [
    "hmodel, Info = bnpy.run(Data, 'HDPTopicModel', 'Mult', 'moVB',\n",
    "                        lam=0.1, alpha=0.5, gamma=10, \n",
    "                        nLap=10, nBatch=2, printEvery=25,\n",
    "                        initname='truelabelsdropwords', initTargetCompID=0, initDropWordIDs='0,1,2,3,4,5',\n",
    "                       **LPkwargs)"
   ]
  },
  {
   "cell_type": "code",
   "execution_count": 183,
   "metadata": {
    "collapsed": false
   },
   "outputs": [],
   "source": [
    "LP = hmodel.calc_local_params(Data, **LPkwargs)\n",
    "\n",
    "curModel = hmodel.copy()\n",
    "curLP = makeLPWithMinNonzeroValFromLP(Data, curModel, LP)\n",
    "curSS = curModel.get_global_suff_stats(Data, curLP, doPrecompEntropy=1)\n",
    "curModel.update_global_params(curSS)"
   ]
  },
  {
   "cell_type": "code",
   "execution_count": 184,
   "metadata": {
    "collapsed": false
   },
   "outputs": [
    {
     "data": {
      "image/png": "[encoded data removed]",
      "text/plain": [
       "<matplotlib.figure.Figure at 0x9a1ba10>"
      ]
     },
     "metadata": {},
     "output_type": "display_data"
    }
   ],
   "source": [
    "bnpy.viz.PlotComps.plotCompsFromHModel(curModel)"
   ]
  },
  {
   "cell_type": "code",
   "execution_count": 185,
   "metadata": {
    "collapsed": false
   },
   "outputs": [
    {
     "name": "stdout",
     "output_type": "stream",
     "text": [
      "[[  0.      0.      0.      0.      0.      0.     35.484  33.603  35.295  35.87 ]\n",
      " [  3.32    1.712   2.856   0.      0.      0.      0.      0.      0.      0.   ]\n",
      " [  0.      0.      0.      0.      3.877   0.      0.      0.      1.287   0.   ]\n",
      " [  0.      4.629   0.      0.      0.      0.      0.      0.      0.      0.   ]\n",
      " [  0.      0.      4.954   0.      0.      0.      0.      0.      0.      1.237]\n",
      " [ 71.088  66.198  72.71   66.497  85.123  75.912   0.      0.      0.      0.   ]\n",
      " [  0.      0.      0.      1.104   0.      0.     38.516  34.397  29.417  30.245]\n",
      " [  0.      1.461   0.      0.      0.      5.088   0.      0.      0.      0.   ]\n",
      " [  0.      0.      3.48    0.      0.      0.      0.      0.      0.      3.648]\n",
      " [  5.591   0.      0.      1.399   0.      0.      0.      0.      0.      0.   ]]\n"
     ]
    }
   ],
   "source": [
    "print curSS.WordCounts[:, :10]"
   ]
  },
  {
   "cell_type": "code",
   "execution_count": 186,
   "metadata": {
    "collapsed": false
   },
   "outputs": [
    {
     "data": {
      "text/plain": [
       "array([ 0.1,  0.1,  0.1,  0.1,  0.1,  0.1])"
      ]
     },
     "execution_count": 186,
     "metadata": {},
     "output_type": "execute_result"
    }
   ],
   "source": [
    "curModel.obsModel.Post.lam[0, targetWordIDs]"
   ]
  },
  {
   "cell_type": "code",
   "execution_count": 187,
   "metadata": {
    "collapsed": true
   },
   "outputs": [],
   "source": [
    "QMat = Data.getWordTypeCooccurMatrix()"
   ]
  },
  {
   "cell_type": "code",
   "execution_count": 188,
   "metadata": {
    "collapsed": false
   },
   "outputs": [
    {
     "data": {
      "text/plain": [
       "<matplotlib.image.AxesImage at 0xaa78470>"
      ]
     },
     "execution_count": 188,
     "metadata": {},
     "output_type": "execute_result"
    },
    {
     "data": {
      "image/png": "[encoded data removed]",
      "text/plain": [
       "<matplotlib.figure.Figure at 0xb59d4f0>"
      ]
     },
     "metadata": {},
     "output_type": "display_data"
    }
   ],
   "source": [
    "pylab.imshow(QMat[targetWordIDs], aspect=40)"
   ]
  },
  {
   "cell_type": "code",
   "execution_count": 189,
   "metadata": {
    "collapsed": true
   },
   "outputs": [],
   "source": [
    "topWords = np.argsort(-1 * QMat[targetWordIDs].sum(axis=0))[:200]"
   ]
  },
  {
   "cell_type": "code",
   "execution_count": 190,
   "metadata": {
    "collapsed": false
   },
   "outputs": [
    {
     "data": {
      "text/plain": [
       "array([ 3239.922,   814.359,   969.519,   659.278,   950.839,  6276.31 ,   545.364,   627.387,\n",
       "         390.621,   590.402])"
      ]
     },
     "execution_count": 190,
     "metadata": {},
     "output_type": "execute_result"
    }
   ],
   "source": [
    "curSS.WordCounts[:, topWords].sum(axis=1)"
   ]
  },
  {
   "cell_type": "markdown",
   "metadata": {
    "collapsed": true
   },
   "source": [
    "# Create proposal with using \"ground truth labels\""
   ]
  },
  {
   "cell_type": "code",
   "execution_count": 191,
   "metadata": {
    "collapsed": true
   },
   "outputs": [],
   "source": [
    "targetWordIDs = [0,1,2,3,4,5]"
   ]
  },
  {
   "cell_type": "code",
   "execution_count": 192,
   "metadata": {
    "collapsed": false
   },
   "outputs": [
    {
     "name": "stdout",
     "output_type": "stream",
     "text": [
      "before norm:\n",
      "1\n"
     ]
    }
   ],
   "source": [
    "propLP_fromtruelabels = makeReconfigWordMoveCandidate_LP(\n",
    "    Data, curLP, curModel, \n",
    "    strategyName='truelabels', targetWordIDs=targetWordIDs, targetCompID=5, destCompIDs=[0])"
   ]
  },
  {
   "cell_type": "code",
   "execution_count": 193,
   "metadata": {
    "collapsed": false
   },
   "outputs": [],
   "source": [
    "assert np.allclose(propLP_fromtruelabels['resp'].sum(), curLP['resp'].sum())"
   ]
  },
  {
   "cell_type": "code",
   "execution_count": 194,
   "metadata": {
    "collapsed": false
   },
   "outputs": [],
   "source": [
    "propSS = curModel.get_global_suff_stats(Data, propLP_fromtruelabels)"
   ]
  },
  {
   "cell_type": "code",
   "execution_count": 195,
   "metadata": {
    "collapsed": false
   },
   "outputs": [
    {
     "data": {
      "text/plain": [
       "array([[  0.   ,   0.   ,   0.   ,   0.   ,   0.   ,   0.   ,  35.484,  33.603,  35.295,  35.87 ],\n",
       "       [  0.   ,   0.   ,   0.   ,   0.   ,   0.   ,   0.   ,   0.   ,   0.   ,   0.   ,   0.   ],\n",
       "       [ 62.435,  58.093,  62.826,  56.151,  74.502,  66.614,   0.   ,   0.   ,   0.   ,   0.   ],\n",
       "       [  8.653,   8.105,   9.884,  10.347,  10.621,   9.298,   0.   ,   0.   ,   0.   ,   0.   ]])"
      ]
     },
     "execution_count": 195,
     "metadata": {},
     "output_type": "execute_result"
    }
   ],
   "source": [
    "propSS.WordCounts[[0,5,10,11], :10]"
   ]
  },
  {
   "cell_type": "code",
   "execution_count": 196,
   "metadata": {
    "collapsed": false
   },
   "outputs": [
    {
     "data": {
      "text/plain": [
       "array([[  0.   ,   0.   ,   0.   ,   0.   ,   0.   ,   0.   ,  35.484,  33.603,  35.295,  35.87 ],\n",
       "       [ 71.088,  66.198,  72.71 ,  66.497,  85.123,  75.912,   0.   ,   0.   ,   0.   ,   0.   ]])"
      ]
     },
     "execution_count": 196,
     "metadata": {},
     "output_type": "execute_result"
    }
   ],
   "source": [
    "curSS.WordCounts[[0,5], :10]"
   ]
  },
  {
   "cell_type": "code",
   "execution_count": 197,
   "metadata": {
    "collapsed": false
   },
   "outputs": [
    {
     "data": {
      "text/plain": [
       "array([[ 38.71 ,  32.384,  38.274,  32.842,  36.009,  36.894,  35.47 ,  31.429,  35.389,  35.817],\n",
       "       [ 36.858,  39.327,  44.071,  33.843,  51.927,  40.514,   0.   ,   0.   ,   0.   ,   0.   ]])"
      ]
     },
     "execution_count": 197,
     "metadata": {},
     "output_type": "execute_result"
    }
   ],
   "source": [
    "trueSS.WordCounts[[0,5], :10]"
   ]
  },
  {
   "cell_type": "code",
   "execution_count": 198,
   "metadata": {
    "collapsed": false
   },
   "outputs": [
    {
     "name": "stdout",
     "output_type": "stream",
     "text": [
      " current ELBO: -6.05185\n",
      "Candidate merge pairs: \n",
      "[(5, 10), (0, 11)]\n",
      "expanded ELBO: -6.06096\n",
      "Accepted merge pairs: \n",
      "[(5, 10), (0, 11)]\n",
      "   final ELBO: -6.05133\n"
     ]
    }
   ],
   "source": [
    "propModel_fromtrue, Result = evaluateReconfigWordMoveCandidate_LP(\n",
    "    Data, curModel, \n",
    "    curLP=curLP, propLP=propLP_fromtruelabels,\n",
    "    targetWordIDs=targetWordIDs, targetCompID=5, destCompIDs=[0])"
   ]
  }
 ],
 "metadata": {
  "kernelspec": {
   "display_name": "Python 2",
   "language": "python",
   "name": "python2"
  },
  "language_info": {
   "codemirror_mode": {
    "name": "ipython",
    "version": 2
   },
   "file_extension": ".py",
   "mimetype": "text/x-python",
   "name": "python",
   "nbconvert_exporter": "python",
   "pygments_lexer": "ipython2",
   "version": "2.7.3"
  }
 },
 "nbformat": 4,
 "nbformat_minor": 0
}
