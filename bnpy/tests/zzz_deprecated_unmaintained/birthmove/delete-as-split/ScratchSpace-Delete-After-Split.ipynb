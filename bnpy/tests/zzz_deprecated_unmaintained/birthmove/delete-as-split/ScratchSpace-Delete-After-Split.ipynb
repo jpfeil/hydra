{
 "cells": [
  {
   "cell_type": "code",
   "execution_count": 338,
   "metadata": {
    "collapsed": false
   },
   "outputs": [
    {
     "name": "stdout",
     "output_type": "stream",
     "text": [
      "Populating the interactive namespace from numpy and matplotlib\n"
     ]
    }
   ],
   "source": [
    "%pylab inline \n",
    "import numpy as np\n",
    "from matplotlib import pylab\n",
    "np.set_printoptions(precision=3, suppress=1, linewidth=100)"
   ]
  },
  {
   "cell_type": "code",
   "execution_count": 339,
   "metadata": {
    "collapsed": true
   },
   "outputs": [],
   "source": [
    "import bnpy"
   ]
  },
  {
   "cell_type": "code",
   "execution_count": 340,
   "metadata": {
    "collapsed": true
   },
   "outputs": [],
   "source": [
    "def minnonzero(Arr, thr=0.001):\n",
    "    return Arr[Arr > thr].min()"
   ]
  },
  {
   "cell_type": "code",
   "execution_count": 341,
   "metadata": {
    "collapsed": true
   },
   "outputs": [],
   "source": [
    "import BarsK10V900\n",
    "Data = BarsK10V900.get_data(nDocTotal=300, nWordsPerDoc=100)\n"
   ]
  },
  {
   "cell_type": "code",
   "execution_count": 342,
   "metadata": {
    "collapsed": true
   },
   "outputs": [],
   "source": [
    "LPkwargs = dict(\n",
    "    nCoordAscentItersLP=50,\n",
    "    convThrLP=0.001,\n",
    "    restartLP=1,\n",
    "    )"
   ]
  },
  {
   "cell_type": "code",
   "execution_count": 343,
   "metadata": {
    "collapsed": false
   },
   "outputs": [
    {
     "name": "stdout",
     "output_type": "stream",
     "text": [
      "{'initMinWordsPerDoc': 100, 'K': 6, 'initBlockLen': 20, 'initMinDocPerWord': 10, 'initarg': 0.0, 'taskid': 1, 'initLapFrac': -1.0, 'initDim': 1000, 'initLP': 'none'} <<<\n",
      "[ 2332.823  2322.655  1853.305  2347.941  2466.96   2732.796  3096.074  2267.893  2346.962  2247.891\n",
      "  1217.7  ]\n",
      "Toy Bars Data with 10 true topics. Each doc uses 1-3 bars.\n",
      "Entire Dataset Summary:\n",
      "  total size: 300 units\n",
      "  batch size: 150 units\n",
      "  num. batches: 2\n",
      "Data for Initialization:\n",
      "  size: 300 units (documents)\n",
      "  vocab size: 900\n",
      "  min    5%   50%   95%   max \n",
      "   73    77    84    92    99  nUniqueTokensPerDoc\n",
      "  100   100   100   100   100  nTotalTokensPerDoc\n",
      "Hist of word_count across tokens \n",
      "      1      2      3    <10   <100  >=100\n",
      "   0.84   0.14   0.02     61      0      0\n",
      "Hist of unique docs per word type\n",
      "     <1    <10   <100  >=100\n",
      "      0      0   >.99      0\n",
      "Allocation Model:  HDP model with K=11 active comps. gamma=10.00. alpha=0.50\n",
      "Obs. Data  Model:  Multinomial over finite vocabulary.\n",
      "Obs. Data  Prior:  Dirichlet over finite vocabulary \n",
      "  lam = [ 0.1  0.1] ...\n",
      "Learn Alg: moVB\n",
      "Trial  1/1 | alg. seed: 4226944 | data order seed: 8541952\n",
      "savepath: /results/BarsK10V900/defaultjob/1\n",
      "    0.500/10 after      0 sec. | K   11 | ev -6.323504682e+00 |  \n",
      "        1/10 after      0 sec. | K   11 | ev -6.173680173e+00 |  \n",
      "    1.500/10 after      1 sec. | K   11 | ev -6.169056041e+00 | Ndiff   41.592 \n",
      "   10.000/10 after      3 sec. | K   11 | ev -6.149360847e+00 | Ndiff    0.241 \n",
      "... done. not converged. max laps thru data exceeded.\n"
     ]
    }
   ],
   "source": [
    "hmodel, Info = bnpy.run(Data, 'HDPTopicModel', 'Mult', 'moVB',\n",
    "                        lam=0.1, alpha=0.5, gamma=10, \n",
    "                        nLap=10, nBatch=2, printEvery=25,\n",
    "                        initname='truelabelsandjunk',\n",
    "                        initKextra=1,\n",
    "                       **LPkwargs)"
   ]
  },
  {
   "cell_type": "code",
   "execution_count": 344,
   "metadata": {
    "collapsed": true
   },
   "outputs": [],
   "source": [
    "LP = hmodel.calc_local_params(Data, **LPkwargs)\n",
    "SS = hmodel.get_global_suff_stats(Data, LP, doPrecompEntropy=1)"
   ]
  },
  {
   "cell_type": "code",
   "execution_count": 351,
   "metadata": {
    "collapsed": false
   },
   "outputs": [
    {
     "name": "stdout",
     "output_type": "stream",
     "text": [
      "25233.0\n",
      "[ 2962.485  2823.985  2344.814  2871.783  3068.252  3483.252  3896.152  2889.778  2917.103  2727.897\n",
      "    14.499]\n"
     ]
    }
   ],
   "source": [
    "print LP['resp'].sum()\n",
    "print SS.getCountVec()"
   ]
  },
  {
   "cell_type": "code",
   "execution_count": 352,
   "metadata": {
    "collapsed": false
   },
   "outputs": [
    {
     "data": {
      "image/png": "[encoded data removed]",
      "text/plain": [
       "<matplotlib.figure.Figure at 0xaf23f10>"
      ]
     },
     "metadata": {},
     "output_type": "display_data"
    }
   ],
   "source": [
    "bnpy.viz.PlotComps.plotCompsFromHModel(hmodel)"
   ]
  },
  {
   "cell_type": "code",
   "execution_count": 353,
   "metadata": {
    "collapsed": true
   },
   "outputs": [],
   "source": [
    "respS = LP['resp'].copy()"
   ]
  },
  {
   "cell_type": "code",
   "execution_count": 354,
   "metadata": {
    "collapsed": true
   },
   "outputs": [],
   "source": [
    "respS[respS < 0.001] = 1e-100"
   ]
  },
  {
   "cell_type": "code",
   "execution_count": 355,
   "metadata": {
    "collapsed": false
   },
   "outputs": [],
   "source": [
    "respS /= respS.sum(axis=1)[:,np.newaxis]"
   ]
  },
  {
   "cell_type": "code",
   "execution_count": 356,
   "metadata": {
    "collapsed": false
   },
   "outputs": [
    {
     "data": {
      "text/plain": [
       "0.001002416927054061"
      ]
     },
     "execution_count": 356,
     "metadata": {},
     "output_type": "execute_result"
    }
   ],
   "source": [
    "respS[respS > 1e-50].min()"
   ]
  },
  {
   "cell_type": "code",
   "execution_count": 357,
   "metadata": {
    "collapsed": true
   },
   "outputs": [],
   "source": [
    "newLP = hmodel.allocModel.initLPFromResp(Data, dict(resp=respS))\n",
    "newLP['E_log_soft_ev'] = LP['E_log_soft_ev']"
   ]
  },
  {
   "cell_type": "code",
   "execution_count": 360,
   "metadata": {
    "collapsed": false
   },
   "outputs": [
    {
     "name": "stdout",
     "output_type": "stream",
     "text": [
      "25233.0\n"
     ]
    }
   ],
   "source": [
    "newSS = hmodel.get_global_suff_stats(Data, newLP, doPrecompEntropy=1)\n",
    "print newLP['resp'].sum()"
   ]
  },
  {
   "cell_type": "code",
   "execution_count": 361,
   "metadata": {
    "collapsed": false
   },
   "outputs": [
    {
     "name": "stdout",
     "output_type": "stream",
     "text": [
      "2813.25520496\n",
      "2808.33061831\n"
     ]
    }
   ],
   "source": [
    "print SS.getELBOTerm('Hresp').sum()\n",
    "print newSS.getELBOTerm('Hresp').sum()"
   ]
  },
  {
   "cell_type": "code",
   "execution_count": 362,
   "metadata": {
    "collapsed": false
   },
   "outputs": [
    {
     "name": "stdout",
     "output_type": "stream",
     "text": [
      "-6.14932268934\n",
      "-6.15699505526\n"
     ]
    }
   ],
   "source": [
    "print hmodel.calc_evidence(SS=SS)\n",
    "print hmodel.calc_evidence(SS=newSS)"
   ]
  },
  {
   "cell_type": "markdown",
   "metadata": {},
   "source": [
    "# Create \"subdivision resp\" matrix, reassigning all tokens in the junk topic."
   ]
  },
  {
   "cell_type": "code",
   "execution_count": 109,
   "metadata": {
    "collapsed": false
   },
   "outputs": [],
   "source": [
    "trueResp = Data.TrueParams['resp'].copy()\n",
    "trueResp[trueResp < 0.001] = 1e-100\n",
    "trueResp /= trueResp.sum(axis=1)[:,np.newaxis]"
   ]
  },
  {
   "cell_type": "code",
   "execution_count": 110,
   "metadata": {
    "collapsed": false
   },
   "outputs": [],
   "source": [
    "mask = newLP['resp'][:, -1] > 0.0001"
   ]
  },
  {
   "cell_type": "code",
   "execution_count": 144,
   "metadata": {
    "collapsed": false
   },
   "outputs": [],
   "source": [
    "maskpropResp = np.zeros((mask.size, trueResp.shape[1]))\n",
    "maskpropResp = trueResp[mask, :]\n",
    "maskpropResp *= newLP['resp'][mask, -1][:,np.newaxis]\n",
    "Knew = 10\n",
    "Korig = 10"
   ]
  },
  {
   "cell_type": "code",
   "execution_count": 145,
   "metadata": {
    "collapsed": false
   },
   "outputs": [
    {
     "data": {
      "text/plain": [
       "array([ 0.997,  0.895,  0.929,  0.937,  1.   ,  0.958,  0.965,  0.947,\n",
       "        0.944,  1.   ,  0.932,  0.998,  0.001,  1.   ,  0.998,  0.998])"
      ]
     },
     "execution_count": 145,
     "metadata": {},
     "output_type": "execute_result"
    }
   ],
   "source": [
    "maskpropResp.sum(axis=1)"
   ]
  },
  {
   "cell_type": "code",
   "execution_count": 146,
   "metadata": {
    "collapsed": false
   },
   "outputs": [
    {
     "data": {
      "text/plain": [
       "array([ 0.997,  0.895,  0.929,  0.937,  1.   ,  0.958,  0.965,  0.947,\n",
       "        0.944,  1.   ,  0.932,  0.998,  0.001,  1.   ,  0.998,  0.998])"
      ]
     },
     "execution_count": 146,
     "metadata": {},
     "output_type": "execute_result"
    }
   ],
   "source": [
    "newLP['resp'][mask, -1]"
   ]
  },
  {
   "cell_type": "code",
   "execution_count": 147,
   "metadata": {
    "collapsed": false
   },
   "outputs": [
    {
     "data": {
      "text/plain": [
       "array([[ 0.843,  0.01 ,  0.121,  0.023,  0.   ,  0.   ,  0.   ,  0.   ,\n",
       "         0.   ,  0.   ],\n",
       "       [ 0.752,  0.009,  0.122,  0.012,  0.   ,  0.   ,  0.   ,  0.   ,\n",
       "         0.   ,  0.   ],\n",
       "       [ 0.692,  0.007,  0.227,  0.004,  0.   ,  0.   ,  0.   ,  0.   ,\n",
       "         0.   ,  0.   ],\n",
       "       [ 0.796,  0.015,  0.107,  0.019,  0.   ,  0.   ,  0.   ,  0.   ,\n",
       "         0.   ,  0.   ],\n",
       "       [ 0.772,  0.013,  0.191,  0.021,  0.   ,  0.   ,  0.   ,  0.   ,\n",
       "         0.   ,  0.002],\n",
       "       [ 0.017,  0.621,  0.298,  0.023,  0.   ,  0.   ,  0.   ,  0.   ,\n",
       "         0.   ,  0.   ],\n",
       "       [ 0.015,  0.59 ,  0.348,  0.012,  0.   ,  0.   ,  0.   ,  0.   ,\n",
       "         0.   ,  0.   ],\n",
       "       [ 0.024,  0.739,  0.175,  0.009,  0.   ,  0.   ,  0.   ,  0.   ,\n",
       "         0.   ,  0.   ],\n",
       "       [ 0.004,  0.882,  0.025,  0.033,  0.   ,  0.   ,  0.   ,  0.   ,\n",
       "         0.   ,  0.   ],\n",
       "       [ 0.004,  0.838,  0.125,  0.03 ,  0.   ,  0.   ,  0.   ,  0.   ,\n",
       "         0.002,  0.   ],\n",
       "       [ 0.013,  0.002,  0.164,  0.753,  0.   ,  0.   ,  0.   ,  0.   ,\n",
       "         0.   ,  0.   ],\n",
       "       [ 0.009,  0.005,  0.113,  0.868,  0.   ,  0.   ,  0.   ,  0.   ,\n",
       "         0.   ,  0.002],\n",
       "       [ 0.   ,  0.   ,  0.   ,  0.001,  0.   ,  0.   ,  0.   ,  0.   ,\n",
       "         0.   ,  0.   ],\n",
       "       [ 0.   ,  0.001,  0.299,  0.699,  0.   ,  0.   ,  0.   ,  0.   ,\n",
       "         0.   ,  0.   ],\n",
       "       [ 0.003,  0.003,  0.26 ,  0.73 ,  0.   ,  0.   ,  0.   ,  0.   ,\n",
       "         0.   ,  0.002],\n",
       "       [ 0.037,  0.022,  0.902,  0.028,  0.003,  0.   ,  0.   ,  0.   ,\n",
       "         0.   ,  0.007]])"
      ]
     },
     "execution_count": 147,
     "metadata": {},
     "output_type": "execute_result"
    }
   ],
   "source": [
    "maskpropResp"
   ]
  },
  {
   "cell_type": "code",
   "execution_count": 175,
   "metadata": {
    "collapsed": true
   },
   "outputs": [],
   "source": [
    "propResp = 1e-100 * np.ones((newLP['resp'].shape[0], newLP['resp'].shape[1] - 1 + Knew))"
   ]
  },
  {
   "cell_type": "code",
   "execution_count": 176,
   "metadata": {
    "collapsed": false
   },
   "outputs": [],
   "source": [
    "propResp[:, :10] = newLP['resp'][:, :10]"
   ]
  },
  {
   "cell_type": "code",
   "execution_count": 177,
   "metadata": {
    "collapsed": false
   },
   "outputs": [],
   "source": [
    "propResp[mask, 10:] = maskpropResp"
   ]
  },
  {
   "cell_type": "code",
   "execution_count": 178,
   "metadata": {
    "collapsed": true
   },
   "outputs": [],
   "source": [
    "propLP = hmodel.allocModel.initLPFromResp(Data, dict(resp=propResp))"
   ]
  },
  {
   "cell_type": "code",
   "execution_count": 179,
   "metadata": {
    "collapsed": false
   },
   "outputs": [
    {
     "data": {
      "text/plain": [
       "array([ 1.,  1.,  1., ...,  1.,  1.,  1.])"
      ]
     },
     "execution_count": 179,
     "metadata": {},
     "output_type": "execute_result"
    }
   ],
   "source": [
    "propLP['resp'].sum(axis=1)"
   ]
  },
  {
   "cell_type": "code",
   "execution_count": 180,
   "metadata": {
    "collapsed": false
   },
   "outputs": [
    {
     "name": "stdout",
     "output_type": "stream",
     "text": [
      "['thetaRem', 'ElogPi', 'resp', 'digammaSumTheta', 'DocTopicCount', 'ElogPiRem', 'theta']\n"
     ]
    }
   ],
   "source": [
    "print propLP.keys()"
   ]
  },
  {
   "cell_type": "code",
   "execution_count": 203,
   "metadata": {
    "collapsed": false
   },
   "outputs": [
    {
     "name": "stdout",
     "output_type": "stream",
     "text": [
      "[(0, 10), (1, 11), (2, 12), (3, 13), (4, 14), (5, 15), (6, 16), (7, 17), (8, 18), (9, 19)]\n"
     ]
    },
    {
     "data": {
      "text/plain": [
       "['thetaRem',\n",
       " 'ElogPi',\n",
       " 'resp',\n",
       " 'digammaSumTheta',\n",
       " 'DocTopicCount',\n",
       " 'ElogPiRem',\n",
       " 'theta']"
      ]
     },
     "execution_count": 203,
     "metadata": {},
     "output_type": "execute_result"
    }
   ],
   "source": [
    "mPairIDs=[]\n",
    "for k in xrange(10):\n",
    "    mPairIDs.append((k, Korig+k))\n",
    "print mPairIDs\n",
    "propLP['resp'].shape\n",
    "propLP.keys()"
   ]
  },
  {
   "cell_type": "code",
   "execution_count": 210,
   "metadata": {
    "collapsed": false
   },
   "outputs": [],
   "source": [
    "propSS = hmodel.get_global_suff_stats(Data, propLP)\n",
    "propModel = hmodel.copy()\n",
    "propModel.update_global_params(propSS)\n",
    "propSS = propModel.get_global_suff_stats(Data, propLP, doPrecompEntropy=1, doPrecompMergeEntropy=1, mPairIDs=mPairIDs)\n",
    "\n",
    "propModel.update_global_params(propSS)\n",
    "propELBO = propModel.calc_evidence(SS=propSS)"
   ]
  },
  {
   "cell_type": "code",
   "execution_count": 211,
   "metadata": {
    "collapsed": false
   },
   "outputs": [
    {
     "data": {
      "text/plain": [
       "286.70952742478744"
      ]
     },
     "execution_count": 211,
     "metadata": {},
     "output_type": "execute_result"
    }
   ],
   "source": [
    "propSS.getMergeTerm('Hresp')[0,10]"
   ]
  },
  {
   "cell_type": "code",
   "execution_count": 212,
   "metadata": {
    "collapsed": false
   },
   "outputs": [
    {
     "data": {
      "text/plain": [
       "array([ 285.214,  270.269,  262.02 ,  246.465,  320.175,  292.845,\n",
       "        289.422,  299.647,  276.865,  264.914,    1.496,    1.484,\n",
       "          4.137,    1.643,    0.016,    0.   ,    0.   ,    0.   ,\n",
       "          0.014,    0.077])"
      ]
     },
     "execution_count": 212,
     "metadata": {},
     "output_type": "execute_result"
    }
   ],
   "source": [
    "propSS.getELBOTerm('Hresp')"
   ]
  },
  {
   "cell_type": "code",
   "execution_count": 215,
   "metadata": {
    "collapsed": false
   },
   "outputs": [],
   "source": [
    "finalModel, finalSS, finalELBO, Info = bnpy.mergemove.MergeMove.run_many_merge_moves(propModel, propSS, propELBO, mPairIDs)"
   ]
  },
  {
   "cell_type": "code",
   "execution_count": 216,
   "metadata": {
    "collapsed": false
   },
   "outputs": [
    {
     "data": {
      "text/plain": [
       "-6.1491438248624188"
      ]
     },
     "execution_count": 216,
     "metadata": {},
     "output_type": "execute_result"
    }
   ],
   "source": [
    "finalModel.calc_evidence(SS=finalSS)"
   ]
  },
  {
   "cell_type": "code",
   "execution_count": 218,
   "metadata": {
    "collapsed": false
   },
   "outputs": [
    {
     "data": {
      "text/plain": [
       "-6.1493226893367421"
      ]
     },
     "execution_count": 218,
     "metadata": {},
     "output_type": "execute_result"
    }
   ],
   "source": [
    "hmodel.calc_evidence(SS=SS)"
   ]
  },
  {
   "cell_type": "code",
   "execution_count": 219,
   "metadata": {
    "collapsed": false
   },
   "outputs": [
    {
     "data": {
      "text/plain": [
       "-6.1722018524285041"
      ]
     },
     "execution_count": 219,
     "metadata": {},
     "output_type": "execute_result"
    }
   ],
   "source": [
    "propModel.calc_evidence(SS=propSS)"
   ]
  },
  {
   "cell_type": "code",
   "execution_count": 224,
   "metadata": {
    "collapsed": false
   },
   "outputs": [],
   "source": [
    "del finalModel.allocModel.rho\n",
    "del finalModel.allocModel.omega\n",
    "finalModel.allocModel.update_global_params(finalSS)"
   ]
  },
  {
   "cell_type": "code",
   "execution_count": 225,
   "metadata": {
    "collapsed": false
   },
   "outputs": [
    {
     "data": {
      "text/plain": [
       "-6.1490645905937038"
      ]
     },
     "execution_count": 225,
     "metadata": {},
     "output_type": "execute_result"
    }
   ],
   "source": [
    "finalModel.calc_evidence(SS=finalSS)"
   ]
  },
  {
   "cell_type": "code",
   "execution_count": 227,
   "metadata": {
    "collapsed": false
   },
   "outputs": [
    {
     "data": {
      "text/plain": [
       "-6.1490645905937038"
      ]
     },
     "execution_count": 227,
     "metadata": {},
     "output_type": "execute_result"
    }
   ],
   "source": [
    "del finalModel.allocModel.rho\n",
    "del finalModel.allocModel.omega\n",
    "finalModel.allocModel.update_global_params(finalSS)\n",
    "finalModel.calc_evidence(SS=finalSS)"
   ]
  },
  {
   "cell_type": "code",
   "execution_count": 228,
   "metadata": {
    "collapsed": false
   },
   "outputs": [
    {
     "name": "stdout",
     "output_type": "stream",
     "text": [
      "-6.1492981155\n"
     ]
    }
   ],
   "source": [
    "del hmodel.allocModel.rho\n",
    "hmodel.allocModel.update_global_params(SS)\n",
    "print hmodel.calc_evidence(SS=SS)\n"
   ]
  },
  {
   "cell_type": "markdown",
   "metadata": {},
   "source": [
    "# Alternative construction: using existing suff stats"
   ]
  },
  {
   "cell_type": "code",
   "execution_count": 363,
   "metadata": {
    "collapsed": false
   },
   "outputs": [
    {
     "data": {
      "text/plain": [
       "array([13561, 13562, 13563, 13564, 13565, 13566, 13567, 13568, 13569, 13570, 13633, 13634, 13637,\n",
       "       13638, 13639, 13640])"
      ]
     },
     "execution_count": 363,
     "metadata": {},
     "output_type": "execute_result"
    }
   ],
   "source": [
    "np.flatnonzero(mask)"
   ]
  },
  {
   "cell_type": "code",
   "execution_count": 364,
   "metadata": {
    "collapsed": false
   },
   "outputs": [
    {
     "data": {
      "text/plain": [
       "array([[ 0.   ,  0.   ,  0.   ,  0.   ,  0.   ,  0.003,  0.   ,  0.   ,  0.   ,  0.   ,  0.997],\n",
       "       [ 0.   ,  0.   ,  0.   ,  0.   ,  0.   ,  0.105,  0.   ,  0.   ,  0.   ,  0.   ,  0.895],\n",
       "       [ 0.   ,  0.   ,  0.   ,  0.   ,  0.   ,  0.071,  0.   ,  0.   ,  0.   ,  0.   ,  0.929],\n",
       "       [ 0.   ,  0.   ,  0.   ,  0.   ,  0.   ,  0.   ,  0.063,  0.   ,  0.   ,  0.   ,  0.937],\n",
       "       [ 0.   ,  0.   ,  0.   ,  0.   ,  0.   ,  0.   ,  0.   ,  0.   ,  0.   ,  0.   ,  1.   ],\n",
       "       [ 0.   ,  0.   ,  0.   ,  0.   ,  0.   ,  0.042,  0.   ,  0.   ,  0.   ,  0.   ,  0.958],\n",
       "       [ 0.   ,  0.   ,  0.   ,  0.   ,  0.   ,  0.   ,  0.035,  0.   ,  0.   ,  0.   ,  0.965],\n",
       "       [ 0.   ,  0.   ,  0.   ,  0.   ,  0.   ,  0.053,  0.   ,  0.   ,  0.   ,  0.   ,  0.947],\n",
       "       [ 0.   ,  0.   ,  0.   ,  0.   ,  0.   ,  0.   ,  0.056,  0.   ,  0.   ,  0.   ,  0.944],\n",
       "       [ 0.   ,  0.   ,  0.   ,  0.   ,  0.   ,  0.   ,  0.   ,  0.   ,  0.   ,  0.   ,  1.   ],\n",
       "       [ 0.   ,  0.   ,  0.   ,  0.   ,  0.   ,  0.068,  0.   ,  0.   ,  0.   ,  0.   ,  0.932],\n",
       "       [ 0.   ,  0.   ,  0.   ,  0.   ,  0.   ,  0.   ,  0.002,  0.   ,  0.   ,  0.   ,  0.998],\n",
       "       [ 0.   ,  0.   ,  0.   ,  0.   ,  0.   ,  0.   ,  0.998,  0.   ,  0.   ,  0.   ,  0.001],\n",
       "       [ 0.   ,  0.   ,  0.   ,  0.   ,  0.   ,  0.   ,  0.   ,  0.   ,  0.   ,  0.   ,  1.   ],\n",
       "       [ 0.   ,  0.   ,  0.   ,  0.   ,  0.   ,  0.   ,  0.002,  0.   ,  0.   ,  0.   ,  0.998],\n",
       "       [ 0.   ,  0.   ,  0.   ,  0.   ,  0.   ,  0.   ,  0.002,  0.   ,  0.   ,  0.   ,  0.998]])"
      ]
     },
     "execution_count": 364,
     "metadata": {},
     "output_type": "execute_result"
    }
   ],
   "source": [
    "LP['resp'][mask, :]"
   ]
  },
  {
   "cell_type": "code",
   "execution_count": 234,
   "metadata": {
    "collapsed": false
   },
   "outputs": [
    {
     "data": {
      "text/plain": [
       "array([[ 0.846,  0.01 ,  0.121,  0.023,  0.   ,  0.   ,  0.   ,  0.   ,  0.   ,  0.   ],\n",
       "       [ 0.84 ,  0.01 ,  0.136,  0.013,  0.   ,  0.   ,  0.   ,  0.   ,  0.   ,  0.   ],\n",
       "       [ 0.745,  0.007,  0.244,  0.004,  0.   ,  0.   ,  0.   ,  0.   ,  0.   ,  0.   ],\n",
       "       [ 0.85 ,  0.016,  0.114,  0.02 ,  0.   ,  0.   ,  0.   ,  0.   ,  0.   ,  0.   ],\n",
       "       [ 0.772,  0.013,  0.191,  0.021,  0.   ,  0.   ,  0.   ,  0.   ,  0.   ,  0.002],\n",
       "       [ 0.017,  0.648,  0.311,  0.024,  0.   ,  0.   ,  0.   ,  0.   ,  0.   ,  0.   ],\n",
       "       [ 0.015,  0.611,  0.36 ,  0.013,  0.   ,  0.   ,  0.   ,  0.   ,  0.   ,  0.   ],\n",
       "       [ 0.025,  0.781,  0.185,  0.009,  0.   ,  0.   ,  0.   ,  0.   ,  0.   ,  0.   ],\n",
       "       [ 0.004,  0.934,  0.027,  0.035,  0.   ,  0.   ,  0.   ,  0.   ,  0.   ,  0.   ],\n",
       "       [ 0.004,  0.838,  0.125,  0.03 ,  0.   ,  0.   ,  0.   ,  0.   ,  0.002,  0.   ],\n",
       "       [ 0.014,  0.002,  0.176,  0.808,  0.   ,  0.   ,  0.   ,  0.   ,  0.   ,  0.   ],\n",
       "       [ 0.009,  0.005,  0.113,  0.87 ,  0.   ,  0.   ,  0.   ,  0.   ,  0.   ,  0.002],\n",
       "       [ 0.008,  0.   ,  0.025,  0.967,  0.   ,  0.   ,  0.   ,  0.   ,  0.   ,  0.   ],\n",
       "       [ 0.   ,  0.001,  0.299,  0.699,  0.   ,  0.   ,  0.   ,  0.   ,  0.   ,  0.   ],\n",
       "       [ 0.003,  0.003,  0.26 ,  0.731,  0.   ,  0.   ,  0.   ,  0.   ,  0.   ,  0.002],\n",
       "       [ 0.037,  0.022,  0.903,  0.028,  0.003,  0.   ,  0.   ,  0.   ,  0.   ,  0.007]])"
      ]
     },
     "execution_count": 234,
     "metadata": {},
     "output_type": "execute_result"
    }
   ],
   "source": [
    "trueResp[mask, :]"
   ]
  },
  {
   "cell_type": "code",
   "execution_count": 243,
   "metadata": {
    "collapsed": false
   },
   "outputs": [
    {
     "data": {
      "text/plain": [
       "array([  0.   ,   0.   ,  82.507,   0.   ,   0.   ,   1.62 ,   1.374,   0.   ,   0.   ,   0.   ,\n",
       "        14.499])"
      ]
     },
     "execution_count": 243,
     "metadata": {},
     "output_type": "execute_result"
    }
   ],
   "source": [
    "LP['DocTopicCount'][161, :]"
   ]
  },
  {
   "cell_type": "code",
   "execution_count": 244,
   "metadata": {
    "collapsed": false
   },
   "outputs": [
    {
     "data": {
      "text/plain": [
       "array([  3.981,   3.757,  85.989,   3.266,   0.003,   1.617,   1.371,   0.   ,   0.002,   0.014])"
      ]
     },
     "execution_count": 244,
     "metadata": {},
     "output_type": "execute_result"
    }
   ],
   "source": [
    "propLP['DocTopicCount'][161, :10] + propLP['DocTopicCount'][161, 10:]"
   ]
  },
  {
   "cell_type": "code",
   "execution_count": 253,
   "metadata": {
    "collapsed": false
   },
   "outputs": [
    {
     "data": {
      "text/plain": [
       "array([[ 0.592,  0.   ,  0.   ,  0.   ,  0.   ,  0.035,  0.   ,  0.79 ,  0.   ,  0.   ,  1.   ],\n",
       "       [ 0.68 ,  0.   ,  0.   ,  0.   ,  0.   ,  1.   ,  0.   ,  0.   ,  0.   ,  0.   ,  0.734],\n",
       "       [ 0.95 ,  0.   ,  0.   ,  0.   ,  0.   ,  0.883,  0.   ,  0.   ,  0.   ,  0.   ,  1.   ],\n",
       "       [ 1.   ,  0.051,  0.   ,  0.   ,  0.051,  0.   ,  0.937,  0.   ,  0.   ,  0.   ,  0.956],\n",
       "       [ 0.977,  0.   ,  0.   ,  0.   ,  0.   ,  0.   ,  0.   ,  0.   ,  0.   ,  0.758,  1.   ],\n",
       "       [ 0.083,  0.961,  0.   ,  0.   ,  0.   ,  0.509,  0.   ,  0.   ,  0.   ,  0.   ,  1.   ],\n",
       "       [ 0.   ,  0.66 ,  0.   ,  0.   ,  0.   ,  0.   ,  0.536,  0.   ,  0.   ,  0.   ,  1.   ],\n",
       "       [ 0.   ,  1.   ,  0.   ,  0.123,  0.066,  0.462,  0.   ,  0.   ,  0.   ,  0.   ,  0.703],\n",
       "       [ 0.   ,  0.785,  0.   ,  0.   ,  0.   ,  0.   ,  0.868,  0.   ,  0.   ,  0.   ,  1.   ],\n",
       "       [ 0.   ,  0.519,  0.   ,  0.   ,  0.035,  0.   ,  0.   ,  0.   ,  0.615,  0.   ,  1.   ],\n",
       "       [ 0.   ,  0.   ,  0.   ,  0.955,  0.   ,  0.847,  0.   ,  0.   ,  0.   ,  0.   ,  1.   ],\n",
       "       [ 0.   ,  0.   ,  0.   ,  1.   ,  0.   ,  0.   ,  0.035,  0.   ,  0.046,  0.798,  0.997],\n",
       "       [ 0.   ,  0.   ,  0.   ,  1.   ,  0.   ,  0.   ,  0.829,  0.   ,  0.   ,  0.   ,  0.   ],\n",
       "       [ 0.   ,  0.   ,  0.   ,  0.767,  0.   ,  0.   ,  0.   ,  0.795,  0.   ,  0.   ,  1.   ],\n",
       "       [ 0.   ,  0.   ,  0.   ,  0.628,  0.   ,  0.   ,  0.03 ,  0.   ,  0.   ,  0.703,  1.   ],\n",
       "       [ 0.   ,  0.104,  0.   ,  0.   ,  0.727,  0.   ,  0.029,  0.   ,  0.   ,  0.761,  1.   ]])"
      ]
     },
     "execution_count": 253,
     "metadata": {},
     "output_type": "execute_result"
    }
   ],
   "source": [
    "LP['E_log_soft_ev'][mask]"
   ]
  },
  {
   "cell_type": "code",
   "execution_count": 409,
   "metadata": {
    "collapsed": false
   },
   "outputs": [],
   "source": [
    "from scipy.special import gammaln, digamma\n",
    "def createCandidateLP(hmodel, Data, LP, targetCompID=10, minResp=0.001):\n",
    "    '''\n",
    "    \n",
    "    Returns\n",
    "    -------\n",
    "    propLP : dict of local params, with expanded K+Kx comps\n",
    "    '''\n",
    "    Korig = hmodel.allocModel.K\n",
    "    remCompIDs = np.setdiff1d(np.arange(Korig), [targetCompID])\n",
    "    docmask = np.flatnonzero(LP['DocTopicCount'][:, targetCompID] > minResp)\n",
    "    propResp = 1e-100 * np.ones((LP['resp'].shape[0], Korig -1 + Korig-1))\n",
    "    propResp[:, remCompIDs] = LP['resp'][:, remCompIDs]\n",
    "    for d in docmask:\n",
    "        mask_d = np.arange(Data.doc_range[d],Data.doc_range[d+1])\n",
    "        relMask_d = mask_d[\n",
    "            LP['resp'][mask_d, targetCompID] > minResp]\n",
    "        fixedDocTopicCount_d = LP['DocTopicCount'][d, remCompIDs]\n",
    "        relLik_d = LP['E_log_soft_ev'][relMask_d, :][:, remCompIDs].copy()\n",
    "        relwc_d = Data.word_count[relMask_d]\n",
    "        \n",
    "        targetsumResp_d = LP['resp'][relMask_d, targetCompID] * relwc_d\n",
    "        sumResp_d = np.zeros_like(targetsumResp_d)\n",
    "        \n",
    "        DocTopicCount_d = np.zeros_like(fixedDocTopicCount_d)\n",
    "        DocTopicProb_d = np.zeros_like(DocTopicCount_d)\n",
    "        sumalphaEbeta = hmodel.allocModel.alpha_E_beta()[targetCompID]\n",
    "        alphaEbeta = sumalphaEbeta * 1.0 / (Korig-1.0) * np.ones(Korig-1)\n",
    "        for riter in range(10):\n",
    "            np.add(DocTopicCount_d, alphaEbeta, out=DocTopicProb_d)\n",
    "            digamma(DocTopicProb_d, out=DocTopicProb_d)\n",
    "            DocTopicProb_d -= DocTopicProb_d.max()\n",
    "            np.exp(DocTopicProb_d, out=DocTopicProb_d)\n",
    "            \n",
    "            # Update sumResp for all tokens in document\n",
    "            np.dot(relLik_d, DocTopicProb_d, out=sumResp_d)\n",
    "\n",
    "            # Update DocTopicCount_d: 1D array, shape K\n",
    "            #     sum(DocTopicCount_d) equals Nd[targetCompID]\n",
    "            np.dot(targetsumResp_d / sumResp_d, relLik_d, out=DocTopicCount_d)\n",
    "            DocTopicCount_d *= DocTopicProb_d\n",
    "            DocTopicCount_d += fixedDocTopicCount_d\n",
    "\n",
    "            print np.sum(DocTopicCount_d), '  |  ', ' '.join(['%.1f' % (x) for x in DocTopicCount_d])\n",
    "        \n",
    "\n",
    "        propResp_d = relLik_d.copy()\n",
    "        propResp_d *= DocTopicProb_d[np.newaxis, :]\n",
    "        propResp_d /= sumResp_d[:, np.newaxis]\n",
    "        propResp_d *= LP['resp'][relMask_d, targetCompID][:,np.newaxis]\n",
    "        propResp_d[propResp_d < minResp] = 1e-100\n",
    "        \n",
    "        propResp[relMask_d, Korig-1:] = propResp_d\n",
    "    propLP = hmodel.allocModel.initLPFromResp(Data, dict(resp=propResp))\n",
    "    return propLP"
   ]
  },
  {
   "cell_type": "code",
   "execution_count": 410,
   "metadata": {
    "collapsed": false
   },
   "outputs": [
    {
     "name": "stdout",
     "output_type": "stream",
     "text": [
      "25233.0\n",
      "100.0   |   2.3 2.7 82.5 2.0 0.5 3.6 2.8 1.1 0.5 1.8\n",
      "100.0   |   2.4 3.1 82.5 2.1 0.1 4.2 2.9 0.6 0.1 2.0\n",
      "100.0   |   2.4 3.3 82.5 2.3 0.0 4.4 2.9 0.2 0.0 2.0\n",
      "100.0   |   2.5 3.4 82.5 2.4 0.0 4.3 2.8 0.0 0.0 2.0\n",
      "100.0   |   2.6 3.4 82.5 2.5 0.0 4.3 2.8 0.0 0.0 2.0\n",
      "100.0   |   2.6 3.4 82.5 2.5 0.0 4.3 2.7 0.0 0.0 1.9\n",
      "100.0   |   2.6 3.5 82.5 2.6 0.0 4.2 2.7 0.0 0.0 1.9\n",
      "100.0   |   2.7 3.5 82.5 2.6 0.0 4.2 2.7 0.0 0.0 1.8\n",
      "100.0   |   2.7 3.5 82.5 2.6 0.0 4.2 2.7 0.0 0.0 1.8\n",
      "100.0   |   2.7 3.5 82.5 2.6 0.0 4.2 2.7 0.0 0.0 1.8\n",
      "25232.9999259\n"
     ]
    }
   ],
   "source": [
    "print LP['resp'].sum()\n",
    "propLP = createCandidateLP(hmodel, Data, newLP, targetCompID=10, minResp=1e-5)\n",
    "print propLP['resp'].sum()"
   ]
  },
  {
   "cell_type": "code",
   "execution_count": 411,
   "metadata": {
    "collapsed": false
   },
   "outputs": [
    {
     "name": "stdout",
     "output_type": "stream",
     "text": [
      "14.4981936663\n",
      "14.4981195838\n",
      "[ 2.721  3.518  0.001  2.65   0.     2.536  1.319  0.     0.     1.754]\n"
     ]
    }
   ],
   "source": [
    "print newLP['resp'].sum(axis=0)[10:].sum()\n",
    "print propLP['resp'].sum(axis=0)[10:].sum()\n",
    "print propLP['resp'].sum(axis=0)[10:]"
   ]
  },
  {
   "cell_type": "code",
   "execution_count": 423,
   "metadata": {
    "collapsed": false
   },
   "outputs": [],
   "source": [
    "def evaluateCandidateLP(Data, curModel, propLP):\n",
    "    propSS = curModel.get_global_suff_stats(Data, propLP, doPrecompEntropy=1)\n",
    "    propModel = curModel.copy()\n",
    "    propModel.update_global_params(propSS)\n",
    "\n",
    "    mPairIDs=[]\n",
    "    for k in xrange(10):\n",
    "        mPairIDs.append((k, Korig+k))\n",
    "    print mPairIDs\n",
    "    \n",
    "    propSS = propModel.get_global_suff_stats(Data, propLP, doPrecompEntropy=1, doPrecompMergeEntropy=1, mPairIDs=mPairIDs)\n",
    "    propModel.update_global_params(propSS)\n",
    "    propELBO = propModel.calc_evidence(SS=propSS)\n",
    "    print 'expanded ELBO: %.5f' % (propELBO)\n",
    "    \n",
    "    finalModel, finalSS, finalELBO, Info = bnpy.mergemove.MergeMove.run_many_merge_moves(propModel, propSS, propELBO, mPairIDs)\n",
    "    finalELBO = finalModel.calc_evidence(SS=finalSS)\n",
    "    print '   final ELBO: %.5f' % (finalELBO)\n",
    "    "
   ]
  },
  {
   "cell_type": "code",
   "execution_count": 424,
   "metadata": {
    "collapsed": false
   },
   "outputs": [
    {
     "name": "stdout",
     "output_type": "stream",
     "text": [
      "[(0, 10), (1, 11), (2, 12), (3, 13), (4, 14), (5, 15), (6, 16), (7, 17), (8, 18), (9, 19)]\n",
      "expanded ELBO: -6.17256\n",
      "   final ELBO: -6.14883\n"
     ]
    }
   ],
   "source": [
    "evaluateCandidateLP(Data, hmodel, propLP)"
   ]
  },
  {
   "cell_type": "code",
   "execution_count": 425,
   "metadata": {
    "collapsed": false
   },
   "outputs": [
    {
     "data": {
      "text/plain": [
       "-6.1493226893367421"
      ]
     },
     "execution_count": 425,
     "metadata": {},
     "output_type": "execute_result"
    }
   ],
   "source": [
    "hmodel.calc_evidence(SS=SS)"
   ]
  },
  {
   "cell_type": "code",
   "execution_count": 503,
   "metadata": {
    "collapsed": false
   },
   "outputs": [],
   "source": [
    "from DeleteProposal import makeDeleteMoveCandidate_LP, evaluateDeleteMoveCandidate_LP"
   ]
  },
  {
   "cell_type": "code",
   "execution_count": 472,
   "metadata": {
    "collapsed": false
   },
   "outputs": [],
   "source": [
    "propLP_true = makeDeleteMoveCandidate_LP(Data, newLP, hmodel, deleteStrategy='truelabels')"
   ]
  },
  {
   "cell_type": "code",
   "execution_count": 496,
   "metadata": {
    "collapsed": false
   },
   "outputs": [
    {
     "data": {
      "text/plain": [
       "25232.999999999942"
      ]
     },
     "execution_count": 496,
     "metadata": {},
     "output_type": "execute_result"
    }
   ],
   "source": [
    "propLP_true['resp'].sum()"
   ]
  },
  {
   "cell_type": "code",
   "execution_count": 497,
   "metadata": {
    "collapsed": false
   },
   "outputs": [],
   "source": [
    "propLP_scratch = makeDeleteMoveCandidate_LP(Data, newLP, hmodel, deleteStrategy='fromScratch')"
   ]
  },
  {
   "cell_type": "code",
   "execution_count": 498,
   "metadata": {
    "collapsed": false
   },
   "outputs": [
    {
     "name": "stdout",
     "output_type": "stream",
     "text": [
      "25233.0\n",
      "25233.0\n"
     ]
    }
   ],
   "source": [
    "print newLP['resp'].sum()\n",
    "print propLP_scratch['resp'].sum()"
   ]
  },
  {
   "cell_type": "code",
   "execution_count": 499,
   "metadata": {
    "collapsed": false
   },
   "outputs": [
    {
     "data": {
      "text/plain": [
       "array([  0.   ,   0.   ,  82.514,   0.   ,   0.   ,   1.617,   1.371,   0.   ,   0.   ,   0.   ,\n",
       "         2.721,   3.518,   0.   ,   2.65 ,   0.   ,   2.536,   1.319,   0.   ,   0.   ,   1.754])"
      ]
     },
     "execution_count": 499,
     "metadata": {},
     "output_type": "execute_result"
    }
   ],
   "source": [
    "propLP_scratch['DocTopicCount'][161]"
   ]
  },
  {
   "cell_type": "code",
   "execution_count": 500,
   "metadata": {
    "collapsed": false
   },
   "outputs": [
    {
     "data": {
      "text/plain": [
       "14.498193666268349"
      ]
     },
     "execution_count": 500,
     "metadata": {},
     "output_type": "execute_result"
    }
   ],
   "source": [
    "newLP['DocTopicCount'][161,-1]"
   ]
  },
  {
   "cell_type": "code",
   "execution_count": 501,
   "metadata": {
    "collapsed": false
   },
   "outputs": [
    {
     "data": {
      "text/plain": [
       "14.498193666268348"
      ]
     },
     "execution_count": 501,
     "metadata": {},
     "output_type": "execute_result"
    }
   ],
   "source": [
    "propLP_scratch['DocTopicCount'][161][10:].sum()"
   ]
  },
  {
   "cell_type": "code",
   "execution_count": 509,
   "metadata": {
    "collapsed": false
   },
   "outputs": [
    {
     "name": "stdout",
     "output_type": "stream",
     "text": [
      "[(0, 10), (1, 11), (2, 12), (3, 13), (4, 14), (5, 15), (6, 16), (7, 17), (8, 18), (9, 19)]\n",
      " current ELBO: -6.15159\n",
      "expanded ELBO: -6.17220\n",
      "   final ELBO: -6.14914\n"
     ]
    }
   ],
   "source": [
    "evaluateDeleteMoveCandidate_LP(Data, hmodel, curLP=newLP, propLP=propLP_true)"
   ]
  },
  {
   "cell_type": "code",
   "execution_count": 510,
   "metadata": {
    "collapsed": false
   },
   "outputs": [
    {
     "name": "stdout",
     "output_type": "stream",
     "text": [
      "[(0, 10), (1, 11), (2, 12), (3, 13), (4, 14), (5, 15), (6, 16), (7, 17), (8, 18), (9, 19)]\n",
      " current ELBO: -6.15159\n",
      "expanded ELBO: -6.17256\n",
      "   final ELBO: -6.14883\n"
     ]
    }
   ],
   "source": [
    "finalModel, ResultInfo = evaluateDeleteMoveCandidate_LP(Data, hmodel, curLP=newLP, propLP=propLP_scratch)"
   ]
  },
  {
   "cell_type": "code",
   "execution_count": 511,
   "metadata": {
    "collapsed": false
   },
   "outputs": [
    {
     "data": {
      "image/png": "[encoded data removed]",
      "text/plain": [
       "<matplotlib.figure.Figure at 0xa8335b0>"
      ]
     },
     "metadata": {},
     "output_type": "display_data"
    }
   ],
   "source": [
    "bnpy.viz.PlotComps.plotCompsFromHModel(finalModel)"
   ]
  },
  {
   "cell_type": "code",
   "execution_count": null,
   "metadata": {
    "collapsed": true
   },
   "outputs": [],
   "source": []
  }
 ],
 "metadata": {
  "kernelspec": {
   "display_name": "Python 2",
   "language": "python",
   "name": "python2"
  },
  "language_info": {
   "codemirror_mode": {
    "name": "ipython",
    "version": 2
   },
   "file_extension": ".py",
   "mimetype": "text/x-python",
   "name": "python",
   "nbconvert_exporter": "python",
   "pygments_lexer": "ipython2",
   "version": "2.7.3"
  }
 },
 "nbformat": 4,
 "nbformat_minor": 0
}
