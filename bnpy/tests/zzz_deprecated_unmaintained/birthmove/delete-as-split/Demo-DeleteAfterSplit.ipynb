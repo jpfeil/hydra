{
 "cells": [
  {
   "cell_type": "code",
   "execution_count": 1,
   "metadata": {
    "collapsed": false
   },
   "outputs": [
    {
     "name": "stdout",
     "output_type": "stream",
     "text": [
      "Populating the interactive namespace from numpy and matplotlib\n"
     ]
    }
   ],
   "source": [
    "%pylab inline \n",
    "import numpy as np\n",
    "from matplotlib import pylab\n",
    "np.set_printoptions(precision=3, suppress=1, linewidth=100)"
   ]
  },
  {
   "cell_type": "code",
   "execution_count": 7,
   "metadata": {
    "collapsed": false
   },
   "outputs": [],
   "source": [
    "from DeleteProposal import makeLPWithMinNonzeroValFromLP, makeDeleteMoveCandidate_LP, evaluateDeleteMoveCandidate_LP"
   ]
  },
  {
   "cell_type": "code",
   "execution_count": 8,
   "metadata": {
    "collapsed": true
   },
   "outputs": [],
   "source": [
    "import bnpy"
   ]
  },
  {
   "cell_type": "code",
   "execution_count": 9,
   "metadata": {
    "collapsed": true
   },
   "outputs": [],
   "source": [
    "import BarsK10V900\n",
    "Data = BarsK10V900.get_data(nDocTotal=300, nWordsPerDoc=100)\n"
   ]
  },
  {
   "cell_type": "code",
   "execution_count": 10,
   "metadata": {
    "collapsed": true
   },
   "outputs": [],
   "source": [
    "LPkwargs = dict(\n",
    "    nCoordAscentItersLP=50,\n",
    "    convThrLP=0.001,\n",
    "    restartLP=1,\n",
    "    )"
   ]
  },
  {
   "cell_type": "code",
   "execution_count": 11,
   "metadata": {
    "collapsed": false
   },
   "outputs": [
    {
     "name": "stdout",
     "output_type": "stream",
     "text": [
      "{'initMinWordsPerDoc': 100, 'K': 6, 'initBlockLen': 20, 'initMinDocPerWord': 10, 'initarg': 0.0, 'taskid': 1, 'initLapFrac': -1.0, 'initDim': 1000, 'initLP': 'none'} <<<\n",
      "[ 2332.823  2322.655  1853.305  2347.941  2466.96   2732.796  3096.074  2267.893  2346.962  2247.891\n",
      "  1217.7  ]\n",
      "Toy Bars Data with 10 true topics. Each doc uses 1-3 bars.\n",
      "Entire Dataset Summary:\n",
      "  total size: 300 units\n",
      "  batch size: 150 units\n",
      "  num. batches: 2\n",
      "Data for Initialization:\n",
      "  size: 300 units (documents)\n",
      "  vocab size: 900\n",
      "  min    5%   50%   95%   max \n",
      "   73    77    84    92    99  nUniqueTokensPerDoc\n",
      "  100   100   100   100   100  nTotalTokensPerDoc\n",
      "Hist of word_count across tokens \n",
      "      1      2      3    <10   <100  >=100\n",
      "   0.84   0.14   0.02     61      0      0\n",
      "Hist of unique docs per word type\n",
      "     <1    <10   <100  >=100\n",
      "      0      0   >.99      0\n",
      "Allocation Model:  HDP model with K=11 active comps. gamma=10.00. alpha=0.50\n",
      "Obs. Data  Model:  Multinomial over finite vocabulary.\n",
      "Obs. Data  Prior:  Dirichlet over finite vocabulary \n",
      "  lam = [ 0.1  0.1] ...\n",
      "Learn Alg: moVB\n",
      "Trial  1/1 | alg. seed: 4226944 | data order seed: 8541952\n",
      "savepath: /results/BarsK10V900/defaultjob/1\n",
      "    0.500/10 after      0 sec. | K   11 | ev -6.323504682e+00 |  \n",
      "        1/10 after      0 sec. | K   11 | ev -6.173680173e+00 |  \n",
      "    1.500/10 after      1 sec. | K   11 | ev -6.169056041e+00 | Ndiff   41.592 \n",
      "   10.000/10 after      3 sec. | K   11 | ev -6.149360847e+00 | Ndiff    0.241 \n",
      "... done. not converged. max laps thru data exceeded.\n"
     ]
    }
   ],
   "source": [
    "hmodel, Info = bnpy.run(Data, 'HDPTopicModel', 'Mult', 'moVB',\n",
    "                        lam=0.1, alpha=0.5, gamma=10, \n",
    "                        nLap=10, nBatch=2, printEvery=25,\n",
    "                        initname='truelabelsandjunk',\n",
    "                        initKextra=1,\n",
    "                       **LPkwargs)"
   ]
  },
  {
   "cell_type": "code",
   "execution_count": 36,
   "metadata": {
    "collapsed": false
   },
   "outputs": [],
   "source": [
    "LP = hmodel.calc_local_params(Data, **LPkwargs)\n",
    "\n",
    "curModel = hmodel.copy()\n",
    "curLP = makeLPWithMinNonzeroValFromLP(Data, curModel, LP)\n",
    "curSS = curModel.get_global_suff_stats(Data, curLP, doPrecompEntropy=1)"
   ]
  },
  {
   "cell_type": "code",
   "execution_count": 21,
   "metadata": {
    "collapsed": false
   },
   "outputs": [
    {
     "data": {
      "image/png": "[encoded data removed]",
      "text/plain": [
       "<matplotlib.figure.Figure at 0xac62dd0>"
      ]
     },
     "metadata": {},
     "output_type": "display_data"
    }
   ],
   "source": [
    "bnpy.viz.PlotComps.plotCompsFromHModel(hmodel)"
   ]
  },
  {
   "cell_type": "markdown",
   "metadata": {
    "collapsed": true
   },
   "source": [
    "# Create proposal with using \"ground truth labels\""
   ]
  },
  {
   "cell_type": "code",
   "execution_count": 23,
   "metadata": {
    "collapsed": false
   },
   "outputs": [],
   "source": [
    "propLP_fromtruelabels = makeDeleteMoveCandidate_LP(Data, curLP, curModel, deleteStrategy='truelabels')"
   ]
  },
  {
   "cell_type": "code",
   "execution_count": 25,
   "metadata": {
    "collapsed": false
   },
   "outputs": [],
   "source": [
    "assert np.allclose(propLP_fromtruelabels['resp'].sum(), curLP['resp'].sum())"
   ]
  },
  {
   "cell_type": "code",
   "execution_count": 27,
   "metadata": {
    "collapsed": false
   },
   "outputs": [
    {
     "name": "stdout",
     "output_type": "stream",
     "text": [
      "[(0, 10), (1, 11), (2, 12), (3, 13), (4, 14), (5, 15), (6, 16), (7, 17), (8, 18), (9, 19)]\n",
      " current ELBO: -6.15159\n",
      "expanded ELBO: -6.17220\n",
      "   final ELBO: -6.14914\n"
     ]
    }
   ],
   "source": [
    "propModel_fromtrue, Result = evaluateDeleteMoveCandidate_LP(Data, curModel, curLP=curLP, propLP=propLP_fromtruelabels)"
   ]
  },
  {
   "cell_type": "code",
   "execution_count": 30,
   "metadata": {
    "collapsed": false
   },
   "outputs": [
    {
     "data": {
      "text/plain": [
       "array([[  7.266,   0.   ,   0.   ,   0.   ,   0.   ,   0.   ,   0.   ,  83.99 ,   8.744,   0.   ,\n",
       "          0.   ],\n",
       "       [  0.   ,   0.   ,  82.514,   0.   ,   0.   ,   1.617,   1.371,   0.   ,   0.   ,   0.   ,\n",
       "         14.498]])"
      ]
     },
     "execution_count": 30,
     "metadata": {},
     "output_type": "execute_result"
    }
   ],
   "source": [
    "curLP['DocTopicCount'][160:162, :]"
   ]
  },
  {
   "cell_type": "code",
   "execution_count": 31,
   "metadata": {
    "collapsed": false
   },
   "outputs": [
    {
     "data": {
      "text/plain": [
       "array([[  7.266,   0.   ,   0.   ,   0.   ,   0.   ,   0.   ,   0.   ,  83.99 ,   8.744,   0.   ,\n",
       "          0.   ,   0.   ,   0.   ,   0.   ,   0.   ,   0.   ,   0.   ,   0.   ,   0.   ,   0.   ],\n",
       "       [  0.   ,   0.   ,  82.514,   0.   ,   0.   ,   1.617,   1.371,   0.   ,   0.   ,   0.   ,\n",
       "          3.981,   3.757,   3.475,   3.266,   0.003,   0.   ,   0.   ,   0.   ,   0.002,   0.014]])"
      ]
     },
     "execution_count": 31,
     "metadata": {},
     "output_type": "execute_result"
    }
   ],
   "source": [
    "propLP_fromtruelabels['DocTopicCount'][160:162, :]"
   ]
  },
  {
   "cell_type": "markdown",
   "metadata": {},
   "source": [
    "# Create proposal with using \"restricted E step\" with current existing components"
   ]
  },
  {
   "cell_type": "code",
   "execution_count": 37,
   "metadata": {
    "collapsed": false
   },
   "outputs": [],
   "source": [
    "propLP_fromscratch = makeDeleteMoveCandidate_LP(Data, curLP, curModel, deleteStrategy='fromscratch')"
   ]
  },
  {
   "cell_type": "code",
   "execution_count": 38,
   "metadata": {
    "collapsed": false
   },
   "outputs": [
    {
     "name": "stdout",
     "output_type": "stream",
     "text": [
      "[(0, 10), (1, 11), (2, 12), (3, 13), (4, 14), (5, 15), (6, 16), (7, 17), (8, 18), (9, 19)]\n",
      " current ELBO: -6.15159\n",
      "expanded ELBO: -6.17256\n",
      "   final ELBO: -6.14883\n"
     ]
    }
   ],
   "source": [
    "propModel_fromscratch, Result = evaluateDeleteMoveCandidate_LP(Data, curModel, curLP=curLP, propLP=propLP_fromscratch)"
   ]
  },
  {
   "cell_type": "code",
   "execution_count": 39,
   "metadata": {
    "collapsed": false
   },
   "outputs": [
    {
     "data": {
      "image/png": "[encoded data removed]",
      "text/plain": [
       "<matplotlib.figure.Figure at 0x95958f0>"
      ]
     },
     "metadata": {},
     "output_type": "display_data"
    }
   ],
   "source": [
    "bnpy.viz.PlotComps.plotCompsFromHModel(propModel_fromscratch)"
   ]
  },
  {
   "cell_type": "code",
   "execution_count": null,
   "metadata": {
    "collapsed": true
   },
   "outputs": [],
   "source": []
  }
 ],
 "metadata": {
  "kernelspec": {
   "display_name": "Python 2",
   "language": "python",
   "name": "python2"
  },
  "language_info": {
   "codemirror_mode": {
    "name": "ipython",
    "version": 2
   },
   "file_extension": ".py",
   "mimetype": "text/x-python",
   "name": "python",
   "nbconvert_exporter": "python",
   "pygments_lexer": "ipython2",
   "version": "2.7.3"
  }
 },
 "nbformat": 4,
 "nbformat_minor": 0
}
