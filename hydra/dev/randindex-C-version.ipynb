{
 "cells": [
  {
   "cell_type": "code",
   "execution_count": 3,
   "metadata": {},
   "outputs": [
    {
     "ename": "SyntaxError",
     "evalue": "invalid syntax (<ipython-input-3-9ac36c17235f>, line 9)",
     "output_type": "error",
     "traceback": [
      "\u001b[0;36m  File \u001b[0;32m\"<ipython-input-3-9ac36c17235f>\"\u001b[0;36m, line \u001b[0;32m9\u001b[0m\n\u001b[0;31m    import ..library.cyrand\u001b[0m\n\u001b[0m           ^\u001b[0m\n\u001b[0;31mSyntaxError\u001b[0m\u001b[0;31m:\u001b[0m invalid syntax\n"
     ]
    }
   ],
   "source": [
    "import cython\n",
    "import numpy as np\n",
    "import timeit\n",
    "import pyximport\n",
    "\n",
    "import numpy as np\n",
    "from cython.parallel import prange\n",
    "\n",
    "import ..library.cyrand\n",
    "\n",
    "%load_ext Cython"
   ]
  },
  {
   "cell_type": "code",
   "execution_count": 4,
   "metadata": {},
   "outputs": [],
   "source": [
    "X = np.array([1, 1, 1, 2, 2, 2, 3, 3, 3], dtype=np.int64) - 1\n",
    "Y = np.array([1, 1, 2, 2, 2, 2, 3, 3, 4], dtype=np.int64) - 1"
   ]
  },
  {
   "cell_type": "code",
   "execution_count": 6,
   "metadata": {},
   "outputs": [
    {
     "data": {
      "text/plain": [
       "array([0, 0, 1, 1, 1, 1, 2, 2, 3])"
      ]
     },
     "execution_count": 6,
     "metadata": {},
     "output_type": "execute_result"
    }
   ],
   "source": [
    "Y"
   ]
  },
  {
   "cell_type": "code",
   "execution_count": 9,
   "metadata": {},
   "outputs": [
    {
     "data": {
      "text/plain": [
       "0.46153846153846156"
      ]
     },
     "execution_count": 9,
     "metadata": {},
     "output_type": "execute_result"
    }
   ],
   "source": [
    "from sklearn.metrics import adjusted_rand_score as ars\n",
    "\n",
    "ars(X, Y)"
   ]
  },
  {
   "cell_type": "code",
   "execution_count": null,
   "metadata": {},
   "outputs": [],
   "source": [
    "cyrand.ri(X, Y)"
   ]
  },
  {
   "cell_type": "code",
   "execution_count": null,
   "metadata": {},
   "outputs": [],
   "source": [
    "%%cython\n",
    "\n",
    "from cython.parallel import prange\n",
    "cimport numpy as np\n",
    "import numpy as np\n",
    "\n",
    "\n",
    "cpdef prandi(long[:, :] x, long[:, :] y):\n",
    "    \"\"\"\n",
    "    :param lst: List of cluster assignments\n",
    "    :return:\n",
    "    \"\"\"\n",
    "    cdef Py_ssize_t i\n",
    "    cdef double[:] res = np.zeros(x.shape[0], dtype=np.float64)\n",
    "    \n",
    "    print(repr(x.shape))\n",
    "    print(repr(y.shape))\n",
    "    assert x.shape == y.shape, 'Arrays must be same length!'\n",
    "    \n",
    "    for i in prange(x.shape[0], nogil=True):\n",
    "        res[i] = 0.\n",
    "    return np.array(res)"
   ]
  },
  {
   "cell_type": "code",
   "execution_count": null,
   "metadata": {},
   "outputs": [],
   "source": [
    "for _ in range(100):\n",
    "    X = np.random.randint(low=0, high=6, size=100, dtype=np.int64)\n",
    "    Y = np.random.randint(low=0, high=6, size=100, dtype=np.int64)\n",
    "    \n",
    "    ri = randi(X, Y)\n",
    "    sk = ars(X, Y)\n",
    "    \n",
    "    if np.isclose(sk, 0., rtol=0.1, atol=0.1):\n",
    "        #print(\"Close to zero\")\n",
    "        sk = 0.\n",
    "    \n",
    "    assert np.isclose(ri, sk), (ri, sk)"
   ]
  },
  {
   "cell_type": "code",
   "execution_count": null,
   "metadata": {},
   "outputs": [],
   "source": [
    "for _ in range(100):\n",
    "    xalpha = np.random.dirichlet((5, 5, 5))\n",
    "    yalpha = np.random.dirichlet((5, 5, 5))\n",
    "    \n",
    "    X = []\n",
    "    Y = []\n",
    "    \n",
    "    X.extend([0] * int(xalpha[0] * 150))\n",
    "    Y.extend([0] * int(yalpha[0] * 150))\n",
    "    \n",
    "    X.extend([1] * int(xalpha[1] * 150))\n",
    "    Y.extend([1] * int(yalpha[1] * 150))\n",
    "    \n",
    "    X.extend([2] * (150 - len(X)))\n",
    "    Y.extend([2] * (150 - len(Y)))\n",
    "    \n",
    "    X = np.array(X)\n",
    "    Y = np.array(Y)\n",
    "    \n",
    "    ri = randi(X, Y)\n",
    "    sk = ars(X, Y)\n",
    "    \n",
    "    if np.isclose(sk, 0., rtol=0.1, atol=0.1):\n",
    "        #print(\"Close to zero\")\n",
    "        sk = 0.\n",
    "    \n",
    "    assert np.isclose(ri, sk), (ri, sk)"
   ]
  },
  {
   "cell_type": "code",
   "execution_count": null,
   "metadata": {},
   "outputs": [],
   "source": [
    "Xs = np.zeros((100, 150), dtype=np.int64)\n",
    "Ys = np.zeros((100, 150), dtype=np.int64)\n",
    "for i in range(100):\n",
    "    xalpha = np.random.dirichlet((5, 5, 5))\n",
    "    yalpha = np.random.dirichlet((5, 5, 5))\n",
    "    \n",
    "    X = []\n",
    "    Y = []\n",
    "    \n",
    "    X.extend([0] * int(xalpha[0] * 150))\n",
    "    Y.extend([0] * int(yalpha[0] * 150))\n",
    "    \n",
    "    X.extend([1] * int(xalpha[1] * 150))\n",
    "    Y.extend([1] * int(yalpha[1] * 150))\n",
    "    \n",
    "    X.extend([2] * (150 - len(X)))\n",
    "    Y.extend([2] * (150 - len(Y)))\n",
    "    \n",
    "    Xs[i, :] = np.array(X)\n",
    "    Ys[i, :] = np.array(Y)\n",
    "\n",
    "res = prandi(Xs, Ys)"
   ]
  },
  {
   "cell_type": "code",
   "execution_count": null,
   "metadata": {},
   "outputs": [],
   "source": [
    "Xs.shape == Ys.shape"
   ]
  },
  {
   "cell_type": "code",
   "execution_count": null,
   "metadata": {},
   "outputs": [],
   "source": [
    "xalpha = np.random.dirichlet((5, 5, 5))\n",
    "yalpha = np.random.dirichlet((5, 5, 5))\n",
    "\n",
    "X = []\n",
    "Y = []\n",
    "    \n",
    "X.extend([0] * int(xalpha[0] * 150))\n",
    "Y.extend([0] * int(yalpha[0] * 150))\n",
    "    \n",
    "X.extend([1] * int(xalpha[1] * 150))\n",
    "Y.extend([1] * int(yalpha[1] * 150))\n",
    "    \n",
    "X.extend([2] * (150 - len(X)))\n",
    "Y.extend([2] * (150 - len(Y)))\n",
    "  \n",
    "X = np.array(X)\n",
    "Y = np.array(Y)\n",
    "    \n",
    "%timeit randi(X, Y) "
   ]
  },
  {
   "cell_type": "code",
   "execution_count": null,
   "metadata": {},
   "outputs": [],
   "source": [
    "xalpha = np.random.dirichlet((5, 5, 5))\n",
    "yalpha = np.random.dirichlet((5, 5, 5))\n",
    "\n",
    "X = []\n",
    "Y = []\n",
    "    \n",
    "X.extend([0] * int(xalpha[0] * 150))\n",
    "Y.extend([0] * int(yalpha[0] * 150))\n",
    "    \n",
    "X.extend([1] * int(xalpha[1] * 150))\n",
    "Y.extend([1] * int(yalpha[1] * 150))\n",
    "    \n",
    "X.extend([2] * (150 - len(X)))\n",
    "Y.extend([2] * (150 - len(Y)))\n",
    "  \n",
    "X = np.array(X)\n",
    "Y = np.array(Y)\n",
    "    \n",
    "%timeit ars(X, Y) "
   ]
  },
  {
   "cell_type": "code",
   "execution_count": null,
   "metadata": {},
   "outputs": [],
   "source": []
  },
  {
   "cell_type": "code",
   "execution_count": null,
   "metadata": {},
   "outputs": [],
   "source": []
  }
 ],
 "metadata": {
  "kernelspec": {
   "display_name": "Python 3",
   "language": "python",
   "name": "python3"
  },
  "language_info": {
   "codemirror_mode": {
    "name": "ipython",
    "version": 3
   },
   "file_extension": ".py",
   "mimetype": "text/x-python",
   "name": "python",
   "nbconvert_exporter": "python",
   "pygments_lexer": "ipython3",
   "version": "3.7.3"
  }
 },
 "nbformat": 4,
 "nbformat_minor": 2
}
